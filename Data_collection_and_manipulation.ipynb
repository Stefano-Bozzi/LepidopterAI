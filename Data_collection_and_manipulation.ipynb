{
 "cells": [
  {
   "cell_type": "markdown",
   "id": "735d739d-65fd-43e5-9861-d2480456fa48",
   "metadata": {},
   "source": [
    "# 1. Data Collection and manipulation"
   ]
  },
  {
   "cell_type": "code",
   "execution_count": null,
   "id": "2104850a-107e-4bcc-94ac-ca09dbca153b",
   "metadata": {},
   "outputs": [],
   "source": [
    "import tensorflow as tf\n",
    "import matplotlib.pyplot as plt\n",
    "import os"
   ]
  },
  {
   "cell_type": "code",
   "execution_count": 26,
   "id": "84d5c77a-d176-46be-b512-375f3d301f8d",
   "metadata": {},
   "outputs": [
    {
     "name": "stdout",
     "output_type": "stream",
     "text": [
      "Image_999.jpgg\n",
      "invalid images list:  []\n"
     ]
    }
   ],
   "source": [
    "# check if the image format is valid, and check if tf can upload image, othewise delate it.\n",
    "\n",
    "folder_path = \"./archive/train/\"\n",
    "\n",
    "invalid_images = []\n",
    "for filename in os.listdir(folder_path):\n",
    "    file_path = os.path.join(folder_path, filename)\n",
    "    print(filename, end='\\r')\n",
    "    if os.path.isfile(file_path):\n",
    "        \n",
    "        # check extension\n",
    "        if not filename.lower().endswith(('.png', '.jpg', '.jpeg', '.bmp', '.tiff')):\n",
    "            print(f\"Invalid Extension for {filename}.\")\n",
    "            invalid_images.append(filename)\n",
    "            continue\n",
    "\n",
    "        # try to load\n",
    "        try:\n",
    "            img = tf.keras.preprocessing.image.load_img(file_path)\n",
    "        except Exception as e:\n",
    "            print(f\"Error loading {filename}: {e}.\")\n",
    "            invalid_images.append(filename)\n",
    "    else:\n",
    "        print(f\"Skipping {filename}, not a file.\")\n",
    "print()\n",
    "print(\"invalid images list: \", invalid_images)"
   ]
  },
  {
   "cell_type": "code",
   "execution_count": null,
   "id": "834bd3cd-08af-47e5-9227-45a12ce64d5b",
   "metadata": {},
   "outputs": [],
   "source": []
  },
  {
   "cell_type": "code",
   "execution_count": null,
   "id": "65915bc1-4c43-440c-a1fa-16c037e3345a",
   "metadata": {},
   "outputs": [],
   "source": []
  }
 ],
 "metadata": {
  "kernelspec": {
   "display_name": "Python 3 (ipykernel)",
   "language": "python",
   "name": "python3"
  },
  "language_info": {
   "codemirror_mode": {
    "name": "ipython",
    "version": 3
   },
   "file_extension": ".py",
   "mimetype": "text/x-python",
   "name": "python",
   "nbconvert_exporter": "python",
   "pygments_lexer": "ipython3",
   "version": "3.13.5"
  }
 },
 "nbformat": 4,
 "nbformat_minor": 5
}
